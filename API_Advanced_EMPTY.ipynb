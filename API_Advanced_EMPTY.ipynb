{
 "cells": [
  {
   "cell_type": "markdown",
   "metadata": {},
   "source": [
    "# Advanced APIs"
   ]
  },
  {
   "cell_type": "markdown",
   "metadata": {},
   "source": [
    "### Set up for Success"
   ]
  },
  {
   "cell_type": "code",
   "execution_count": 1,
   "metadata": {},
   "outputs": [],
   "source": [
    "import requests\n",
    "\n",
    "url = \"https://cae-bootstore.herokuapp.com\"\n",
    "endpoint_login =\"/login\"\n",
    "endpoint_user =\"/user\"\n",
    "endpoint_book = \"/book\"\n",
    "\n",
    "\n"
   ]
  },
  {
   "cell_type": "markdown",
   "metadata": {},
   "source": [
    "## GET Requests"
   ]
  },
  {
   "cell_type": "code",
   "execution_count": 12,
   "metadata": {
    "scrolled": true
   },
   "outputs": [
    {
     "name": "stdout",
     "output_type": "stream",
     "text": [
      "[{'author': 'Arlene Dahl', 'created_on': 'Mon, 28 Feb 2022 19:21:17 GMT', 'id': 18, 'img': 'https://s2982.pcdn.co/wp-content/uploads/2018/11/always-ask-a-man-book-cover.jpg', 'pages': 198, 'subject': 'self help', 'summary': 'For women traveling back to the US 1950', 'title': 'ALWAYS ASK A MAN: THE KEY TO FEMININITY'}, {'author': 'Arnetta R. Scales', 'created_on': 'Mon, 28 Feb 2022 19:21:17 GMT', 'id': 19, 'img': 'https://s2982.pcdn.co/wp-content/uploads/2018/11/and-on-the-eighth-day-god-created-hairdressers-book-cover.jpg', 'pages': 222, 'subject': 'self help', 'summary': 'Becuase I just gotta get my hair did', 'title': 'AND ON THE EIGHTH DAY GOD CREATED HAIRDRESSERS'}, {'author': 'James Maratta', 'created_on': 'Mon, 28 Feb 2022 19:21:17 GMT', 'id': 20, 'img': 'https://s2982.pcdn.co/wp-content/uploads/2018/11/brainwashing-is-a-cinch-book-cover.jpg', 'pages': 321, 'subject': 'science', 'summary': 'We bother making a rational argument?', 'title': 'BRAINWASHING IS A CINCH!'}, {'author': 'Stephanie Jackson', 'created_on': 'Mon, 28 Feb 2022 19:21:17 GMT', 'id': 21, 'img': 'https://s2982.pcdn.co/wp-content/uploads/2018/11/cat-flexing.jpg', 'pages': 1295, 'subject': 'self help', 'summary': 'Who needs heavy weights when a fat cat will do', 'title': 'CATFLEXING: A CATLOVER’S GUIDE TO WEIGHTLIFTING, AEROBICS & STRETCHING'}, {'author': 'Micheala Giles', 'created_on': 'Mon, 28 Feb 2022 19:21:17 GMT', 'id': 22, 'img': 'https://s2982.pcdn.co/wp-content/uploads/2018/11/commuter-pig-keeper-book-cover.jpg', 'pages': 87, 'subject': 'science', 'summary': 'Not in Kansas anymore? Raising pigs in the City with a full time job?', 'title': 'THE COMMUTER PIG KEEPER'}, {'author': 'Elizabeth Worthington Strong', 'created_on': 'Mon, 28 Feb 2022 19:21:17 GMT', 'id': 24, 'img': 'https://s2982.pcdn.co/wp-content/uploads/2018/11/how-to-cook-husbands-book-cover.jpg', 'pages': 199, 'subject': 'marriage advice', 'summary': \"For when you are tired of the question What's for dinner?\", 'title': 'HOW TO COOK HUSBANDS'}, {'author': 'Lois Bird', 'created_on': 'Mon, 28 Feb 2022 19:21:17 GMT', 'id': 25, 'img': 'https://s2982.pcdn.co/wp-content/uploads/2018/11/how-to-make-your-wife-your-mistress-book-cover.jpg', 'pages': 111, 'subject': 'marriage advice', 'summary': 'Living with two women can be hard: Consolidate', 'title': 'HOW TO MAKE YOUR WIFE YOUR MISTRESS'}, {'author': 'Brenda Bence', 'created_on': 'Mon, 28 Feb 2022 19:21:17 GMT', 'id': 26, 'img': 'https://s2982.pcdn.co/wp-content/uploads/2018/11/how-you-are-like-shampoo-book-cover.jpg', 'pages': 222, 'subject': 'self help', 'summary': 'Lather, rinse, repeat.', 'title': 'HOW YOU ARE LIKE SHAMPOO'}, {'author': 'Aqua Boil', 'created_on': 'Mon, 28 Feb 2022 19:21:17 GMT', 'id': 27, 'img': 'https://s2982.pcdn.co/wp-content/uploads/2018/11/the-joy-of-waterboiling-book-cover-759x1024.jpg', 'pages': 12, 'subject': 'entertainment', 'summary': 'For when you need to have fun on a budget ', 'title': 'THE JOY OF WATER BOILING'}, {'author': 'Drew Emborsky', 'created_on': 'Mon, 28 Feb 2022 19:21:17 GMT', 'id': 28, 'img': 'https://s2982.pcdn.co/wp-content/uploads/2018/11/men-who-knit-and-the-dogs-who-love-them-book-cover.jpg', 'pages': 397, 'subject': 'entertainment', 'summary': 'Nothing finer than knitting matching sweaters for you and your dog', 'title': 'MEN WHO KNIT & THE DOGS WHO LOVE THEM'}, {'author': 'Matthew Voggel', 'created_on': 'Mon, 28 Feb 2022 19:21:17 GMT', 'id': 30, 'img': 'https://s2982.pcdn.co/wp-content/uploads/2018/11/natural-history-of-vacant-lots-book-cover-178x300.jpg', 'pages': 452, 'subject': 'science', 'summary': 'Seinfeld for Property', 'title': 'NATURAL HISTORY OF VACANT LOTS'}, {'author': 'Hester Mundis', 'created_on': 'Mon, 28 Feb 2022 19:21:17 GMT', 'id': 31, 'img': 'https://s2982.pcdn.co/wp-content/uploads/2018/11/no-hes-not-a-monkey-book-cover.jpg', 'pages': 521, 'subject': 'self help', 'summary': 'Advice on raising a teenage boy', 'title': 'NO, HE’S NOT A MONKEY, HE’S AN APE AND HE’S MY SON'}, {'author': 'Linda Wright', 'created_on': 'Mon, 28 Feb 2022 19:21:17 GMT', 'id': 32, 'img': 'https://s2982.pcdn.co/wp-content/uploads/2018/11/toilet-paper-origami-book-cover.jpg', 'pages': 222, 'subject': 'entertainment', 'summary': 'A book for when you leave your phone in the other room.', 'title': 'TOILET PAPER ORIGAMI'}, {'author': 'Martin Greenberg', 'created_on': 'Mon, 28 Feb 2022 19:21:17 GMT', 'id': 33, 'img': 'https://s2982.pcdn.co/wp-content/uploads/2018/11/zombie-raccoons-and-killer-rabbits-book-cover.jpg', 'pages': 201, 'subject': 'science', 'summary': \"When the day comes you'll thank me\", 'title': 'ZOMBIE RACCOONS & KILLER BUNNIES'}, {'author': 'Donal I Rogers', 'created_on': 'Mon, 28 Feb 2022 19:21:17 GMT', 'id': 34, 'img': 'https://s2982.pcdn.co/wp-content/uploads/2018/11/teach-your-wife-to-be-a-widow-book-cover.jpg', 'pages': 187, 'subject': 'marriage', 'summary': 'For when your wife browses our marriage section', 'title': 'TEACH YOUR WIFE TO BE A WIDOW'}, {'author': 'The Practical Dev', 'created_on': 'Mon, 07 Mar 2022 21:56:09 GMT', 'id': 35, 'img': 'https://boyter.org/static/books/Cn1rWcbWcAAgsCA.jpg', 'pages': 120, 'subject': 'Programming', 'summary': 'Regex is hard', 'title': 'Googling for the Regex'}, {'author': 'The Practical Dev', 'created_on': 'Mon, 07 Mar 2022 21:56:09 GMT', 'id': 36, 'img': 'https://boyter.org/static/books/CpWvVOoW8AAjYmB.jpg', 'pages': 5324, 'subject': 'Programming', 'summary': 'git add, git commit, git push, git clone, git branch, git fetch', 'title': 'Memorizing Six Git Commands'}, {'author': 'The Practical Dev', 'created_on': 'Mon, 07 Mar 2022 21:56:09 GMT', 'id': 37, 'img': 'https://boyter.org/static/books/CnDD1t0XgAQMXJA.jpg', 'pages': 57, 'subject': 'Programming', 'summary': 'To catch them is your real test, to train them is your cause', 'title': \"Catching 'em all\"}, {'author': 'The Practical Dev', 'created_on': 'Mon, 07 Mar 2022 21:56:09 GMT', 'id': 38, 'img': 'https://boyter.org/static/books/Cf7eHZ1W4AEeZJA.jpg', 'pages': 125, 'subject': 'Programming', 'summary': 'The way programmers like to learn', 'title': 'Changing Stuff and Seeing What Happens'}, {'author': 'The Practical Dev', 'created_on': 'Mon, 07 Mar 2022 21:56:09 GMT', 'id': 39, 'img': 'https://boyter.org/static/books/ChdhDa5XEAAK36t.jpg', 'pages': 233, 'subject': 'Programming', 'summary': 'What happened when I built this ap', 'title': 'Moving Fast and breaking things'}, {'author': 'The Practical Dev', 'created_on': 'Mon, 07 Mar 2022 21:56:09 GMT', 'id': 40, 'img': 'https://boyter.org/static/books/CiHHf9-UYAA6aVB.jpg', 'pages': 233, 'subject': 'Programming', 'summary': 'A book on the key to success', 'title': 'Remembering What to Google'}, {'author': 'Anonymous', 'created_on': 'Mon, 28 Feb 2022 19:21:17 GMT', 'id': 23, 'img': 'https://s2982.pcdn.co/wp-content/uploads/2018/11/cooking-to-kill-book-cover.jpg', 'pages': 3207, 'subject': 'cooking', 'summary': 'Originally titled: Divorce with Benefits', 'title': 'COOKING TO KILL: THE POISON COOK-BOOK'}, {'author': 'The Practical Dev', 'created_on': 'Mon, 07 Mar 2022 21:56:09 GMT', 'id': 41, 'img': 'https://boyter.org/static/books/Cllb9urWMAAKaz4.jpg', 'pages': 384, 'subject': 'Programming', 'summary': 'A book on how I got through Coding Temple Lectures', 'title': 'Nodding along'}, {'author': 'The Practical Dev', 'created_on': 'Mon, 07 Mar 2022 21:56:09 GMT', 'id': 42, 'img': 'https://boyter.org/static/books/CfSQdwUW8AErog1.jpg', 'pages': 32, 'subject': 'Programming', 'summary': 'My programming process', 'title': 'Trying Stuff Until it Works'}, {'author': 'The Practical Dev', 'created_on': 'Mon, 07 Mar 2022 21:56:09 GMT', 'id': 43, 'img': 'https://boyter.org/static/books/pRDPMx2.jpg', 'pages': 475, 'subject': 'Programming', 'summary': 'I think i know what this does', 'title': 'Copying and Pasting from Stack Overflow'}, {'author': 'The Practical Dev', 'created_on': 'Mon, 07 Mar 2022 21:56:09 GMT', 'id': 44, 'img': 'https://boyter.org/static/books/C1_sRq9XgAADMzY.jpg', 'pages': 2, 'subject': 'Programming', 'summary': 'Crossing those fingers', 'title': 'Hoping for the Right Interview Questions'}, {'author': 'The Practical Dev', 'created_on': 'Mon, 07 Mar 2022 22:24:42 GMT', 'id': 45, 'img': 'https://boyter.org/static/books/f8153cfdbe0a117e6386fa7051976063-2.jpeg', 'pages': 923, 'subject': 'Programming', 'summary': \"Wade's old textbook\", 'title': 'Cobol: the fossilized guide'}, {'author': 'The Practical Dev', 'created_on': 'Mon, 07 Mar 2022 22:24:42 GMT', 'id': 46, 'img': 'https://boyter.org/static/books/e1120a9e3abfecff3ac50527e1b3556f-2.jpeg', 'pages': 143, 'subject': 'Programming', 'summary': 'Looks just as good as the original', 'title': 'JPEG Compression'}, {'author': 'Peanut Pirate', 'created_on': 'Wed, 09 Mar 2022 23:12:01 GMT', 'id': 47, 'img': 'http://www.fastprint.co.uk/Assets/User/2107-outwitting-squirrels.jpg', 'pages': 12456, 'subject': 'entertainment', 'summary': \"It's way harder than it sounds\", 'title': 'Outwitting Squirrels'}, {'author': 'Malcolm', 'created_on': 'Wed, 09 Mar 2022 23:12:01 GMT', 'id': 48, 'img': 'http://www.fastprint.co.uk/Assets/User/2064-eating-people-is-wrong.jpg', 'pages': 134, 'subject': 'cooking', 'summary': 'This was also news to me', 'title': 'Eating People is Wrong'}, {'author': '673126', 'created_on': 'Wed, 09 Mar 2022 23:12:01 GMT', 'id': 49, 'img': 'http://www.fastprint.co.uk/Assets/User/2084-how-to-make-money-in-your-spare-time.jpg', 'pages': 666, 'subject': 'self help', 'summary': 'Black mask not included', 'title': 'How to make money in your spare time'}, {'author': 'John W Trimmer', 'created_on': 'Wed, 09 Mar 2022 23:12:01 GMT', 'id': 50, 'img': 'http://www.fastprint.co.uk/Assets/User/2079-how-to-avoid-huge-ships.jpg', 'pages': 1, 'subject': 'science', 'summary': 'Pivot', 'title': 'How to Avoid Huge Ships'}, {'author': 'Heather Silver', 'created_on': 'Wed, 09 Mar 2022 23:12:01 GMT', 'id': 51, 'img': 'http://www.fastprint.co.uk/Assets/User/2142-why-cats-paint.jpg', 'pages': 185, 'subject': 'entertainment', 'summary': 'A photogenic journey through the internets favorite topic', 'title': 'Why Cats Paint'}, {'author': 'Coolio', 'created_on': 'Wed, 09 Mar 2022 23:12:01 GMT', 'id': 52, 'img': 'http://www.fastprint.co.uk/Assets/User/2062-cookin-with-coolio.jpg', 'pages': 207, 'subject': 'cooking', 'summary': 'The fried bologna is devine', 'title': \"Cookin' with Coolio\"}]\n"
     ]
    }
   ],
   "source": [
    "def get_books():\n",
    "    books = requests.get(url+endpoint_book)\n",
    "    return books.json()[\"books\"]\n",
    "\n",
    "\n",
    "books = get_books()\n",
    "print(books)"
   ]
  },
  {
   "cell_type": "markdown",
   "metadata": {},
   "source": [
    "## In Class Assignment A\n",
    "\n",
    "#### make a function that returns a set of all the categories/subject found in the book list"
   ]
  },
  {
   "cell_type": "code",
   "execution_count": 13,
   "metadata": {},
   "outputs": [
    {
     "data": {
      "text/plain": [
       "{'Cooking',\n",
       " 'Entertainment',\n",
       " 'Marriage',\n",
       " 'Marriage Advice',\n",
       " 'Programming',\n",
       " 'Science',\n",
       " 'Self Help'}"
      ]
     },
     "execution_count": 13,
     "metadata": {},
     "output_type": "execute_result"
    }
   ],
   "source": [
    "def get_category_list(books):\n",
    "    return {book['subject'].title() for book in books}\n",
    "\n",
    "get_category_list(books)"
   ]
  },
  {
   "cell_type": "markdown",
   "metadata": {},
   "source": [
    "## In Class Assignment B\n",
    "\n",
    "#### make a function that returns a list of all the books(dicts) in a category"
   ]
  },
  {
   "cell_type": "code",
   "execution_count": 14,
   "metadata": {},
   "outputs": [
    {
     "data": {
      "text/plain": [
       "[{'author': 'Aqua Boil',\n",
       "  'created_on': 'Mon, 28 Feb 2022 19:21:17 GMT',\n",
       "  'id': 27,\n",
       "  'img': 'https://s2982.pcdn.co/wp-content/uploads/2018/11/the-joy-of-waterboiling-book-cover-759x1024.jpg',\n",
       "  'pages': 12,\n",
       "  'subject': 'entertainment',\n",
       "  'summary': 'For when you need to have fun on a budget ',\n",
       "  'title': 'THE JOY OF WATER BOILING'},\n",
       " {'author': 'Drew Emborsky',\n",
       "  'created_on': 'Mon, 28 Feb 2022 19:21:17 GMT',\n",
       "  'id': 28,\n",
       "  'img': 'https://s2982.pcdn.co/wp-content/uploads/2018/11/men-who-knit-and-the-dogs-who-love-them-book-cover.jpg',\n",
       "  'pages': 397,\n",
       "  'subject': 'entertainment',\n",
       "  'summary': 'Nothing finer than knitting matching sweaters for you and your dog',\n",
       "  'title': 'MEN WHO KNIT & THE DOGS WHO LOVE THEM'},\n",
       " {'author': 'Linda Wright',\n",
       "  'created_on': 'Mon, 28 Feb 2022 19:21:17 GMT',\n",
       "  'id': 32,\n",
       "  'img': 'https://s2982.pcdn.co/wp-content/uploads/2018/11/toilet-paper-origami-book-cover.jpg',\n",
       "  'pages': 222,\n",
       "  'subject': 'entertainment',\n",
       "  'summary': 'A book for when you leave your phone in the other room.',\n",
       "  'title': 'TOILET PAPER ORIGAMI'},\n",
       " {'author': 'Peanut Pirate',\n",
       "  'created_on': 'Wed, 09 Mar 2022 23:12:01 GMT',\n",
       "  'id': 47,\n",
       "  'img': 'http://www.fastprint.co.uk/Assets/User/2107-outwitting-squirrels.jpg',\n",
       "  'pages': 12456,\n",
       "  'subject': 'entertainment',\n",
       "  'summary': \"It's way harder than it sounds\",\n",
       "  'title': 'Outwitting Squirrels'},\n",
       " {'author': 'Heather Silver',\n",
       "  'created_on': 'Wed, 09 Mar 2022 23:12:01 GMT',\n",
       "  'id': 51,\n",
       "  'img': 'http://www.fastprint.co.uk/Assets/User/2142-why-cats-paint.jpg',\n",
       "  'pages': 185,\n",
       "  'subject': 'entertainment',\n",
       "  'summary': 'A photogenic journey through the internets favorite topic',\n",
       "  'title': 'Why Cats Paint'}]"
      ]
     },
     "execution_count": 14,
     "metadata": {},
     "output_type": "execute_result"
    }
   ],
   "source": [
    "def get_book_by_category(books, category):\n",
    "    return list(filter(lambda book: book[\"subject\"].title() == category.title(), books))\n",
    "get_book_by_category(books, \"Entertainment\")\n"
   ]
  },
  {
   "cell_type": "markdown",
   "metadata": {},
   "source": [
    "## Using a SLUG\n",
    "A Slug is the unique identifying part of a web address, typically at the end of the URL"
   ]
  },
  {
   "cell_type": "code",
   "execution_count": 15,
   "metadata": {
    "scrolled": true
   },
   "outputs": [
    {
     "data": {
      "text/plain": [
       "{'author': 'Aqua Boil',\n",
       " 'created_on': 'Mon, 28 Feb 2022 19:21:17 GMT',\n",
       " 'id': 27,\n",
       " 'img': 'https://s2982.pcdn.co/wp-content/uploads/2018/11/the-joy-of-waterboiling-book-cover-759x1024.jpg',\n",
       " 'pages': 12,\n",
       " 'subject': 'entertainment',\n",
       " 'summary': 'For when you need to have fun on a budget ',\n",
       " 'title': 'THE JOY OF WATER BOILING'}"
      ]
     },
     "execution_count": 15,
     "metadata": {},
     "output_type": "execute_result"
    }
   ],
   "source": [
    "def get_single_book(book_id):\n",
    "    single_book = requests.get(url+endpoint_book+'/'+str(book_id))\n",
    "    return single_book.json()\n",
    "get_single_book(27)"
   ]
  },
  {
   "cell_type": "markdown",
   "metadata": {},
   "source": [
    "## POST Requests\n",
    "\n",
    "#### json.dumps will convert a dictionary into a JSON String ready for transport"
   ]
  },
  {
   "cell_type": "code",
   "execution_count": 16,
   "metadata": {
    "scrolled": true
   },
   "outputs": [
    {
     "data": {
      "text/plain": [
       "'<!DOCTYPE HTML PUBLIC \"-//W3C//DTD HTML 3.2 Final//EN\">\\n<title>422 Unprocessable Entity</title>\\n<h1>Unprocessable Entity</h1>\\n<p>The request was well-formed but was unable to be followed due to semantic errors.</p>\\n'"
      ]
     },
     "execution_count": 16,
     "metadata": {},
     "output_type": "execute_result"
    }
   ],
   "source": [
    "import json\n",
    "\n",
    "def register_user(payload):\n",
    "    payload_json_string = json.dumps(payload)\n",
    "    headers = {\n",
    "        \"Content-Type\":\"application/json\"\n",
    "    }\n",
    "    response = requests.post(\n",
    "        url + endpoint_user,\n",
    "        data = payload_json_string,\n",
    "        headers = headers\n",
    "    )\n",
    "    return response.text\n",
    "    \n",
    "\n",
    "\n",
    "jims_payload = {\n",
    "    'email':'jimb@eam321.com',\n",
    "    \"first_name\": \"William\",\n",
    "    \"last_name\":\"Beam\",\n",
    "    \"password\":\"123\"\n",
    "} \n",
    "\n",
    "# string_ver=json.dumps(jims_payload)#dictionary into string\n",
    "# json.loads(string_ver) #string to dictionary\n",
    "\n",
    "register_user(jims_payload)"
   ]
  },
  {
   "cell_type": "markdown",
   "metadata": {},
   "source": [
    "## Authentication - Basic Authorization\n"
   ]
  },
  {
   "cell_type": "code",
   "execution_count": 17,
   "metadata": {
    "scrolled": true
   },
   "outputs": [],
   "source": [
    "import base64\n",
    "def login_user(user_name, password):\n",
    "    auth_string = user_name + \":\" + password\n",
    "    headers = {\n",
    "        \"Authorization\":\"Basic \" + base64.b64encode(auth_string.encode()).decode()\n",
    "    }\n",
    "    \n",
    "    user_data = requests.get(\n",
    "        url+endpoint_login,\n",
    "        headers = headers\n",
    "    )\n",
    "    return user_data.json()\n",
    "\n"
   ]
  },
  {
   "cell_type": "code",
   "execution_count": 18,
   "metadata": {},
   "outputs": [
    {
     "data": {
      "text/plain": [
       "'qPcVMZxHWt03sVZx2Kovl2LbX9QtQ55uqr96Room60E'"
      ]
     },
     "execution_count": 18,
     "metadata": {},
     "output_type": "execute_result"
    }
   ],
   "source": [
    "jim = login_user(\"jimb@eam321.com\", \"123\")\n",
    "jim[\"token\"]"
   ]
  },
  {
   "cell_type": "markdown",
   "metadata": {},
   "source": [
    "## Authentication - Bearer Authorization & PUT Requests"
   ]
  },
  {
   "cell_type": "code",
   "execution_count": 19,
   "metadata": {},
   "outputs": [
    {
     "data": {
      "text/plain": [
       "'success'"
      ]
     },
     "execution_count": 19,
     "metadata": {},
     "output_type": "execute_result"
    }
   ],
   "source": [
    "def edit_user(token, payload):\n",
    "    payload_json_string = json.dumps(payload)\n",
    "    headers={\n",
    "        \"Content-Type\":\"application/json\",\n",
    "        \"Authorization\":'Bearer ' + token\n",
    "    }\n",
    "    response = requests.put(\n",
    "        url + endpoint_user,\n",
    "        data = payload_json_string,\n",
    "        headers = headers\n",
    "    )\n",
    "    return response.text\n",
    "\n",
    "jims_edit_payload={\n",
    "    \"first_name\":\"Bill\"\n",
    "}\n",
    "\n",
    "edit_user(jim['token'],jims_edit_payload)"
   ]
  },
  {
   "cell_type": "code",
   "execution_count": 20,
   "metadata": {
    "scrolled": false
   },
   "outputs": [
    {
     "data": {
      "text/plain": [
       "'Bill'"
      ]
     },
     "execution_count": 20,
     "metadata": {},
     "output_type": "execute_result"
    }
   ],
   "source": [
    "jim = login_user(\"jimb@eam321.com\", \"123\")\n",
    "jim[\"first_name\"]"
   ]
  },
  {
   "cell_type": "markdown",
   "metadata": {},
   "source": [
    "## DELETE Request"
   ]
  },
  {
   "cell_type": "code",
   "execution_count": 21,
   "metadata": {},
   "outputs": [
    {
     "data": {
      "text/plain": [
       "'success'"
      ]
     },
     "execution_count": 21,
     "metadata": {},
     "output_type": "execute_result"
    }
   ],
   "source": [
    "def delete_user(token):\n",
    "    headers={\n",
    "        \"Authorization\":'Bearer ' + token\n",
    "    }\n",
    "    response = requests.delete(\n",
    "        url+endpoint_user,\n",
    "        headers=headers\n",
    "    )\n",
    "    return response.text\n",
    "delete_user(jim['token'])"
   ]
  },
  {
   "cell_type": "code",
   "execution_count": null,
   "metadata": {},
   "outputs": [],
   "source": []
  },
  {
   "cell_type": "markdown",
   "metadata": {},
   "source": [
    "## Display Images in Jupyter notebook"
   ]
  },
  {
   "cell_type": "code",
   "execution_count": 22,
   "metadata": {},
   "outputs": [
    {
     "data": {
      "text/html": [
       "<img src=\"https://s2982.pcdn.co/wp-content/uploads/2018/11/the-joy-of-waterboiling-book-cover-759x1024.jpg\"/>"
      ],
      "text/plain": [
       "<IPython.core.display.Image object>"
      ]
     },
     "metadata": {},
     "output_type": "display_data"
    },
    {
     "name": "stdout",
     "output_type": "stream",
     "text": [
      "hello\n"
     ]
    }
   ],
   "source": [
    "from IPython.display import Image, display\n",
    "\n",
    "image = Image(url=\"https://s2982.pcdn.co/wp-content/uploads/2018/11/the-joy-of-waterboiling-book-cover-759x1024.jpg\")\n",
    "display(image)\n",
    "print(\"hello\")"
   ]
  },
  {
   "cell_type": "markdown",
   "metadata": {},
   "source": [
    "## Make an Application"
   ]
  },
  {
   "cell_type": "code",
   "execution_count": 32,
   "metadata": {},
   "outputs": [
    {
     "name": "stdout",
     "output_type": "stream",
     "text": [
      "\n",
      "Welcome To the Repository\n",
      "You can:\n",
      "1. Browse All Books\n",
      "2. Browse Books By Category\n",
      "3. View Reading List\n",
      "4. Remove Book from Reading List\n",
      "5. Quit\n",
      "            \n",
      "Select Your Fate: 5\n",
      "Goodbye\n"
     ]
    }
   ],
   "source": [
    "from getpass import getpass\n",
    "import time\n",
    "from IPython.display import clear_output \n",
    "from IPython.display import Image\n",
    "from IPython.display import display\n",
    "\n",
    "\n",
    "\n",
    "class Login_books():\n",
    "    \n",
    "    def login(self, email):\n",
    "        clear_output()\n",
    "        password=getpass(\"Password: \")\n",
    "        user=login_user(email, password)\n",
    "        return user\n",
    "\n",
    "    def register(self):\n",
    "        clear_output()\n",
    "        print(\"Registration:\")\n",
    "        email=input(\"Email: \")\n",
    "        first_name=input(\"First Name: \")\n",
    "        last_name=input(\"Last Name: \")\n",
    "        password=getpass(\"Password: \")\n",
    "\n",
    "        user_dict={\n",
    "            \"email\":email,\n",
    "            \"first_name\":first_name,\n",
    "            \"last_name\":last_name,\n",
    "            \"password\":password\n",
    "        }\n",
    "        return register_user(user_dict)\n",
    "\n",
    "        \n",
    "\n",
    "\n",
    "\n",
    "\n",
    "class Display():\n",
    "    \n",
    "    def display_book_short(self, book):\n",
    "        print(f\"{book['id']} \\t| {book['title'][:50].ljust(50)} | \\t{book['subject']}\")\n",
    "\n",
    "    def display_book_long(self, book):\n",
    "        cover=Image(url=book['img']) \n",
    "        display(cover)\n",
    "        print(f'''\n",
    "    Title: {book['title']}    \n",
    "    Author: {book['author']}        \n",
    "    Pages: {book['pages']}\n",
    "    Subject: {book['subject']}\n",
    "    Summary: {book['summary']}\n",
    "        ''')\n",
    "\n",
    "class ReadingList():\n",
    "    def __init__(self):\n",
    "        self.reading_list=[]\n",
    "    \n",
    "    def add_book(self, book):\n",
    "        if book not in self.reading_list:\n",
    "            self.reading_list.append(book)\n",
    "        \n",
    "    def remove_book(self, book):\n",
    "        self.reading_list.remove(book)\n",
    "        \n",
    "    def empty(self):\n",
    "        self.reading_list=set()\n",
    "    \n",
    "    def show_book_list(self):\n",
    "        clear_output()\n",
    "        if not self.reading_list:\n",
    "            print(\"Your Book List Is Empty\")\n",
    "        for book in self.reading_list:\n",
    "            print(f'''\n",
    "{\"=\"*50}\n",
    "\\n\n",
    "Title:\\t {book['title']}\n",
    "Book id: {book['id']}\n",
    "Author:\\t {book['author']}\n",
    "Subject: {book['subject']}\n",
    "Summary: {book['summary']}\n",
    "\\n\n",
    "{\"=\"*50}\n",
    "\\n\n",
    "            ''')\n",
    "    def show_small_book_list(self):\n",
    "        display = Display()\n",
    "        if not self.reading_list:\n",
    "            print(\"Your Book List Is Empty\")\n",
    "        else:\n",
    "            print(\"Your Reading List:\")\n",
    "        for book in self.reading_list:\n",
    "            display.display_book_short(book)   \n",
    "            \n",
    "\n",
    "class Browse_books():\n",
    "    \n",
    "    def action1(self):\n",
    "        reading_list.add_book(list(filter(lambda book: book['id'] == selection, books))[0])\n",
    "        print(\"As you wish\")\n",
    "        time.sleep(1)\n",
    "    \n",
    "    def action2(self):\n",
    "        clear_output()\n",
    "        display.display_book_long(list(filter(lambda book: book['id'] == selection, books))[0]) \n",
    "        input(\"Enter Any Key To Continue\")\n",
    "    \n",
    "    def browse_books(self, books, reading_list, subject=None):\n",
    "        display = Display()\n",
    "        while True:\n",
    "            clear_output()\n",
    "            print(f'''\n",
    "    Welcome to the Browser        \n",
    "    You are viewing {subject if subject else 'all'} books\n",
    "    [ID] \\t| {\"[TITLE]\".ljust(50)}| [SUBJECT]\n",
    "            ''')\n",
    "            if subject:\n",
    "                books=get_book_by_category(books, subject)\n",
    "            for book in books:\n",
    "                display.display_book_short(book)   \n",
    "\n",
    "            selection=input(\"Select your book by ID [BACK to back out]\")   \n",
    "            if selection == \"BACK\":\n",
    "                return\n",
    "            elif selection.isnumeric() and int(selection) in map(lambda book: book['id'] ,books):\n",
    "                selection=int(selection)\n",
    "                while True:\n",
    "                    print(f'''\n",
    "                    You Selected: {list(filter(lambda book: book['id'] == selection, books))[0]['title']}\n",
    "                    1. Add Book To Reading List\n",
    "                    2. View More Information\n",
    "                    3. Go Back\n",
    "                    4. Go To Main Menu\n",
    "                    ''')\n",
    "                    action=input(\"Action: \")\n",
    "                    if action == \"1\":\n",
    "                        action1()\n",
    "                        break\n",
    "\n",
    "                    elif action == \"2\":\n",
    "                        action2()\n",
    "\n",
    "                    elif action == \"3\":\n",
    "                        break         \n",
    "\n",
    "                    elif action == \"4\":\n",
    "                        return                    \n",
    "            else:\n",
    "                print(\"Invalid ID\")\n",
    "                time.sleep(2)\n",
    "                continue\n",
    "        \n",
    "\n",
    "\n",
    "def main():\n",
    "    browsing = Browse_books()\n",
    "    reading_list = ReadingList()\n",
    "    books = get_books()\n",
    "    logs = Login()\n",
    "    while True:\n",
    "            clear_output()\n",
    "            print(\"Welcome to the Bookstore\")\n",
    "            email = input(\"Type your email to login or Type `register` to Register\")\n",
    "            if email == 'register':\n",
    "                success_register=logs.register()\n",
    "                if success_register:\n",
    "                    print(\"You have successfully registered\")\n",
    "                    continue\n",
    "                else:\n",
    "                    print(\"There was an error please try again\")\n",
    "                    time.sleep(2)\n",
    "                    continue\n",
    "            elif email.lower() == \"quit\":\n",
    "                print(\"Goodbye\")\n",
    "                break\n",
    "            else:\n",
    "                try:\n",
    "                    logs.login(email)\n",
    "                except:\n",
    "                    print(\"Invalid Username/Password Combo\")\n",
    "                    time.sleep(2)\n",
    "                    continue\n",
    "\n",
    "            while True:\n",
    "                clear_output()\n",
    "                print(\"\"\"\n",
    "Welcome the Repository\n",
    "You can:\n",
    "1. Browse All Books\n",
    "2. Browse Books By Category\n",
    "3. View Reading List\n",
    "4. Remove Book From Reading List\n",
    "5. Quit\n",
    "\"\"\")\n",
    "                command = input(\"Select your fate: \")\n",
    "                if command == \"1\":\n",
    "                    browsing.browse_books(books, reading_list) \n",
    "                elif command == \"2\":\n",
    "                    while True:\n",
    "                        print(\" | \".join(get_category_list(books)))\n",
    "                        cat = input(\"Category: \").lower()\n",
    "                        if cat in get_category_list(books):\n",
    "                            borwsing.browse_books(books, reading_list, cat) \n",
    "                            break\n",
    "                        print(\"Invalid category\")\n",
    "                        time.sleep(2)\n",
    "                elif command == \"3\":\n",
    "                    reading_list.show_book_list()\n",
    "                    input(\"Press Any Key To Return\")\n",
    "                elif command == \"4\":\n",
    "                    while True:\n",
    "                        clear_output()\n",
    "                        reading_list.show_small_book_list()\n",
    "                        garbage=input(\"What book ID would you like to remove? [BACK to back out]\")\n",
    "                        if garbage==\"BACK\":\n",
    "                            break\n",
    "                        elif garbage.isnumeric() and int(garbage) in map(lambda book: book['id'], reading_list.reading_list):\n",
    "                            reading_list.remove_book(list(filter(lambda book: book['id']==int(garbage) ,reading_list.reading_list))[0])\n",
    "                            print(f\"{garbage} has been removed\")\n",
    "                            time.sleep(2)\n",
    "                            break\n",
    "                        else:\n",
    "                            print(f'{garbage} is not in your collection')\n",
    "                            time.sleep(2)\n",
    "                            break\n",
    "                elif command == \"5\":\n",
    "                    print(\"Goodbye\")\n",
    "                    break\n",
    "                else:\n",
    "                    print(\"Invalid selection\")\n",
    "                    time.sleep(2)\n",
    "                    continue\n",
    "                \n",
    "            \n",
    "            \n",
    "            \n",
    "main()"
   ]
  }
 ],
 "metadata": {
  "kernelspec": {
   "display_name": "Python 3",
   "language": "python",
   "name": "python3"
  },
  "language_info": {
   "codemirror_mode": {
    "name": "ipython",
    "version": 3
   },
   "file_extension": ".py",
   "mimetype": "text/x-python",
   "name": "python",
   "nbconvert_exporter": "python",
   "pygments_lexer": "ipython3",
   "version": "3.10.5"
  }
 },
 "nbformat": 4,
 "nbformat_minor": 4
}
